{
 "cells": [
  {
   "cell_type": "markdown",
   "metadata": {},
   "source": [
    "# Линейная алгебра"
   ]
  },
  {
   "cell_type": "markdown",
   "metadata": {},
   "source": [
    "## Вектор"
   ]
  },
  {
   "cell_type": "markdown",
   "metadata": {},
   "source": [
    "Вектор $\\mathbf{v}$ (или $\\vec{v}$) - это элемент векторного пространства $\\mathrm{V}$.  \n",
    "Для него определены операции сложения друг с другом и умножения на число (скаляр). Эти операции подчинены аксиомам, которые мы скоро увидим.  \n",
    "О векторе можно крайне упрощенно думать как о массиве из чисел $x_{\\textit{i}}$."
   ]
  },
  {
   "cell_type": "markdown",
   "metadata": {},
   "source": [
    "$$\\mathbf{v} = \\vec{v} = \n",
    "\\begin{pmatrix}\n",
    "x_{\\textit{1}} \\\\\n",
    "x_{\\textit{2}} \\\\\n",
    "\\dots \\\\\n",
    "x_{\\textit{n}}\n",
    "\\end{pmatrix}\n",
    "$$"
   ]
  },
  {
   "cell_type": "markdown",
   "metadata": {},
   "source": [
    "Пример:\n",
    "$$\\mathbf{v} =  \n",
    "\\begin{pmatrix}\n",
    "12 \\\\\n",
    "3 \\\\\n",
    "1 \\\\\n",
    "17\n",
    "\\end{pmatrix}, \n",
    "\\mathbf{v}_{2} = 3\n",
    "$$"
   ]
  },
  {
   "cell_type": "markdown",
   "metadata": {},
   "source": [
    "### Транспонирование\n",
    "Обычно вектор представляют в виде столбца.  \n",
    "Можно представить вектор в виде строки с помощью операции транспонирования $\\mathbf{v}^{\\top}$:\n",
    "$$\n",
    "\\begin{pmatrix}\n",
    "x_{\\textit{1}} \\\\\n",
    "x_{\\textit{2}} \\\\\n",
    "\\dots \\\\\n",
    "x_{\\textit{n}}\n",
    "\\end{pmatrix}^{\\top}\n",
    "=\n",
    "\\begin{pmatrix}\n",
    "x_{\\textit{1}} , x_{\\textit{2}} , \\dots , x_{\\textit{n}}\n",
    "\\end{pmatrix}\n",
    "$$\n",
    "Если вам по какой-то причине захочется превратить вектор-строку обратно в вектор-столбец, вы можете воспользоваться операцией транспонирования снова, ведь $(\\mathbf{v}^{\\top})^{\\top} = \\mathbf{v}$."
   ]
  },
  {
   "cell_type": "markdown",
   "metadata": {},
   "source": [
    "---\n",
    "### Линейные пространства\n",
    "__Определение.__ Линейное (векторное) пространство $\\mathrm{V}(\\mathbb{F})$ над полем $\\mathbb{F}$ — упорядоченная четверка $(\\mathrm{V}, \\mathbb{F}, +, •)$, где:\n",
    "\n",
    "1) $\\mathrm{V}$ — непустое множество векторов (произвольной природы),\n",
    "\n",
    "2) $\\mathbb{F}$ — поле скаляров\n",
    "\n",
    "3) $+: \\mathrm{V} \\times \\mathrm{V} \\rightarrow \\mathrm{V}$ — операция сложения двух векторов,\n",
    "\n",
    "4) $•: \\mathbb{F} \\times \\mathrm{V} \\rightarrow \\mathrm{V}$ — операция умножения скаляра на вектор."
   ]
  },
  {
   "cell_type": "markdown",
   "metadata": {},
   "source": [
    "Для линейных пространств задаются следующие аксиомы:\n",
    "\n",
    "1) $\\forall x, y \\in \\mathrm{V}: x + y = y + x$ *(Коммутативность сложения)*\n",
    "\n",
    "2) $\\forall x, y, z \\in \\mathrm{V}: (x + y) + z = x + (y + z)$ *(Ассоциативность сложения)*\n",
    "\n",
    "3) $\\exists \\mathbb{0} \\in \\mathrm{V}\\ \\forall x \\in \\mathrm{V}: x + \\mathbb{0} = x$ *(Существование нейтрального элемента по сложению)*\n",
    "\n",
    "4) $\\forall x \\in \\mathrm{V}\\ \\exists (-x) \\in \\mathrm{V}: x + (-x) = \\mathbb{0}$ *(Существования противоположного элемента по сложению)*\n",
    "\n",
    "5) $\\forall \\alpha, \\beta \\in \\mathbb{F}\\ \\forall x \\in \\mathrm{V}: \\alpha(\\beta x) = (\\alpha \\beta) x$ *(Ассоциативность умножения скаляров на вектор)*\n",
    "\n",
    "6) $\\forall x \\in \\mathrm{V}: \\mathbb{1} • x = x $ *(Нейтральный элемент по умножению из поля является нейтральным элементов для операции умножения на вектор)*\n",
    "\n",
    "7) $\\forall \\alpha, \\beta \\in \\mathbb{F}\\ \\forall x \\in \\mathrm{V}: (\\alpha + \\beta) x = \\alpha x + \\beta x$ *(Дистрибутивность сложения скаляров относительно умножения скаляра на вектор)*\n",
    "\n",
    "8) $\\forall \\alpha \\in \\mathbb{F}\\ \\forall x, y \\in \\mathrm{V}: \\alpha (x + y) = \\alpha x + \\alpha y$ *(Дистрибутивность сложения векторов относительно умножения на скаляр)*"
   ]
  },
  {
   "cell_type": "markdown",
   "metadata": {},
   "source": [
    "__Определение__. Пусть $x_1, ..., x_n \\in \\mathrm{V}, \\alpha_1, ..., \\alpha_n \\in \\mathbb{F}$.\n",
    "\n",
    "Линейной комбинацией векторов $x_1, ..., x_n$ с коэффициентами $\\alpha_1, ..., \\alpha_n$ называется следующая сумма:\n",
    "\n",
    "$$ \\alpha_1 x_1 + \\alpha_2 x_2 + ... + \\alpha_n x_n = \\sum_{i=1}^{n} \\alpha_i x_i$$\n",
    "___"
   ]
  },
  {
   "cell_type": "markdown",
   "metadata": {},
   "source": [
    "## Матрица"
   ]
  },
  {
   "cell_type": "markdown",
   "metadata": {},
   "source": [
    "Матрица $\\pmb{M}$ размера $m \\times n$- это таблица из элементов $x_{\\textit{ij}}$ над полем $\\mathbb{F}$.  \n",
    "$$\n",
    "\\pmb{M} = \n",
    "\\begin{bmatrix}\n",
    "    x_{1,1} & x_{1,2} & x_{1,3} & \\dots  & x_{1,n} \\\\\n",
    "    x_{2,1} & x_{2,2} & x_{2,3} & \\dots  & x_{2,n} \\\\\n",
    "    \\vdots & \\vdots & \\vdots & \\ddots & \\vdots \\\\\n",
    "    x_{m,1} & x_{m,2} & x_{m,3} & \\dots  & x_{m,n}\n",
    "\\end{bmatrix}\n",
    "$$"
   ]
  },
  {
   "cell_type": "markdown",
   "metadata": {},
   "source": [
    "Матрица состоит из строк и столбцов.  \n",
    "Размер матрицы выше - $m \\times n$. Это значит, что в ней $m$ строк и $n$ столбцов.  \n",
    "Возьмем элемент $x_{\\textit{i,j}}$.  \n",
    "*i* - номер строки, в которой находится данный элемент.  \n",
    "*j* - номер столбца, в котором находится данный элемент.  \n",
    "Нумерация начинается с 1. Не путайте с `numpy`, где нумерация начинается с 0.  \n",
    "Возьмем элемент из третьей строки и первого столбца:"
   ]
  },
  {
   "cell_type": "markdown",
   "metadata": {},
   "source": [
    "Пример:  \n",
    "$$\n",
    "\\begin{bmatrix}\n",
    "7 & 2 \\\\\n",
    "3 & 999 \\\\\n",
    "-2 & 0\n",
    "\\end{bmatrix}_{\\textit{ 3,1}} = -2\n",
    "$$"
   ]
  },
  {
   "cell_type": "markdown",
   "metadata": {},
   "source": [
    "Матрицу можно представить как вектор-строку из векторов-столбцов $x_i \\in \\mathbb{F}^n$:\n",
    "\n",
    "$$ \\pmb{M} = \\begin{pmatrix}\n",
    "    x_1 & \\cdots & x_n \\\\\n",
    "\\end{pmatrix}\n",
    "$$"
   ]
  },
  {
   "cell_type": "markdown",
   "metadata": {},
   "source": [
    "### Транспонирование"
   ]
  },
  {
   "cell_type": "markdown",
   "metadata": {},
   "source": [
    "$$\n",
    "\\begin{bmatrix}\n",
    "1 & 2 & 3 \\\\\n",
    "4 & 5 & 6\n",
    "\\end{bmatrix}^{\\top}\n",
    "=\n",
    "\\begin{bmatrix}\n",
    "1 & 4 \\\\\n",
    "2 & 5 \\\\\n",
    "3 & 6\n",
    "\\end{bmatrix}\n",
    "$$"
   ]
  },
  {
   "cell_type": "markdown",
   "metadata": {},
   "source": [
    "Можно сказать, что после выполнения транспонирования строки становятся столбцами, а столбцы - строками."
   ]
  },
  {
   "cell_type": "markdown",
   "metadata": {},
   "source": [
    "### Главная диагональ и Единичная матрица"
   ]
  },
  {
   "cell_type": "markdown",
   "metadata": {},
   "source": [
    "Главная диагональ - это элементы матрицы $x_{\\textit{i,j}}$ при $\\textit{i = j}$.  \n",
    "Проще говоря, это значения матрицы, которые лежат на диагонали, идущей от левого верхнего угла матрицы до ее правого нижнего угла."
   ]
  },
  {
   "cell_type": "markdown",
   "metadata": {},
   "source": [
    "$$\n",
    "\\pmb{I} = \n",
    "\\begin{bmatrix}\n",
    "    1 & 0 & 0 & 0 \\\\\n",
    "    0 & 1 & 0 & 0 \\\\\n",
    "    0 & 0 & 1 & 0 \\\\\n",
    "    0 & 0 & 0 & 1\n",
    "\\end{bmatrix}\n",
    "$$"
   ]
  },
  {
   "cell_type": "markdown",
   "metadata": {},
   "source": [
    "Например, на матрице выше значения на главной диагонали равны $1$, а вне главной диагонали - $0$.  \n",
    "Кстати, такая матрица (независимо от размера) называется единичной и обозначается $\\pmb{I}$."
   ]
  },
  {
   "cell_type": "markdown",
   "metadata": {},
   "source": [
    "### Перемножение"
   ]
  },
  {
   "cell_type": "markdown",
   "metadata": {},
   "source": [
    "В Machine Learning иногда используется перемножение матриц с матрицами и матриц с векторами.  \n",
    "Поэтому, важно понимать, как оно происходит."
   ]
  },
  {
   "cell_type": "markdown",
   "metadata": {},
   "source": [
    "#### Матрица на вектор"
   ]
  },
  {
   "cell_type": "markdown",
   "metadata": {},
   "source": [
    "$$\n",
    "\\begin{bmatrix}\n",
    "1 & 2 & 3 \\\\\n",
    "4 & 5 & 6\n",
    "\\end{bmatrix}\n",
    "\\cdot\n",
    "\\begin{bmatrix}\n",
    "a \\\\\n",
    "b \\\\\n",
    "c \n",
    "\\end{bmatrix}\n",
    "=\n",
    "\\begin{bmatrix}\n",
    "1a + 2b + 3c \\\\\n",
    "4a + 5b + 6c \n",
    "\\end{bmatrix}\n",
    "$$"
   ]
  },
  {
   "cell_type": "markdown",
   "metadata": {},
   "source": [
    "#### Матрица на матрицу"
   ]
  },
  {
   "cell_type": "markdown",
   "metadata": {},
   "source": [
    "$$\n",
    "\\begin{bmatrix}\n",
    "1 & 2 & 3 \\\\\n",
    "4 & 5 & 6\n",
    "\\end{bmatrix}\n",
    "\\cdot\n",
    "\\begin{bmatrix}\n",
    "a & x \\\\\n",
    "b & y \\\\\n",
    "c & z\n",
    "\\end{bmatrix}\n",
    "=\n",
    "\\begin{bmatrix}\n",
    "1a + 2b + 3c & 1x + 2y + 3z \\\\\n",
    "4a + 5b + 6c & 4x + 5y + 6z \n",
    "\\end{bmatrix}\n",
    "$$"
   ]
  },
  {
   "cell_type": "markdown",
   "metadata": {},
   "source": [
    "Правило, при котором матрицы можно перемножать: вторая компонента размерности левой матрицы должна быть равна первой компоненте размерности правой матрицы.  \n",
    "Если у нас есть матрица $\\pmb{A}$ размерностью $m \\times n$ и матрица $\\pmb{B}$ размерностью $n \\times k$, то мы можем их перемножить.  \n",
    "При произведении $\\pmb{AB}$ мы получим матрицу $\\pmb{C}$ размерностью $m \\times k$.  \n",
    "Заметим, что $\\pmb{BA}$ мы сделать в общем случае уже не можем - размерности не подходят.  \n",
    "Но можем, если матрица квадратная, то есть, она имеет размерность $n \\times n$."
   ]
  },
  {
   "cell_type": "markdown",
   "metadata": {},
   "source": [
    "---\n",
    "## Градиентный спуск"
   ]
  },
  {
   "cell_type": "markdown",
   "metadata": {},
   "source": [
    "![](img/gradient.jpeg)"
   ]
  },
  {
   "cell_type": "markdown",
   "metadata": {},
   "source": [
    "### Градиент\n",
    "__Градиент__ - это  вектор, своим направлением указывающий направление наибольшего возрастания некоторой величины $\\phi$ , значение которой меняется от одной точки пространства к другой (скалярного поля), а по величине (модулю) равный скорости роста этой величины в этом направлении."
   ]
  },
  {
   "cell_type": "markdown",
   "metadata": {},
   "source": [
    "Например, если взять в качестве $\\phi$  высоту поверхности земли над уровнем моря, то её градиент в каждой точке поверхности будет показывать «направление самого крутого подъёма», и своей величиной характеризовать крутизну склона.\n",
    "\n",
    "![](img/map.jpg)"
   ]
  },
  {
   "cell_type": "markdown",
   "metadata": {},
   "source": [
    "Для случая трёхмерного пространства градиентом скалярной функции $\\phi = \\phi (x,y,z)$ координат $x,y,z$ называется векторная функция с компонентами:\n",
    "\n",
    "<h1>$\\frac{\\partial\\phi}{\\partial x},\\frac{\\partial\\phi}{\\partial y},\\frac{\\partial\\phi}{\\partial z}$</h1>"
   ]
  },
  {
   "cell_type": "markdown",
   "metadata": {},
   "source": [
    "Или, использовав для единичных векторов по осям прямоугольных декартовых координат $\\vec{e_x},\\vec{e_y},\\vec{e_z}$"
   ]
  },
  {
   "cell_type": "markdown",
   "metadata": {},
   "source": [
    "## $\\nabla\\phi = \\frac{\\partial\\phi}{\\partial x}\\vec{e_x}+\\frac{\\partial\\phi}{\\partial y}\\vec{e_y}+\\frac{\\partial\\phi}{\\partial z}\\vec{e_z} $"
   ]
  },
  {
   "cell_type": "code",
   "execution_count": null,
   "metadata": {},
   "outputs": [],
   "source": []
  }
 ],
 "metadata": {
  "kernelspec": {
   "display_name": "Python 3",
   "language": "python",
   "name": "python3"
  },
  "language_info": {
   "codemirror_mode": {
    "name": "ipython",
    "version": 3
   },
   "file_extension": ".py",
   "mimetype": "text/x-python",
   "name": "python",
   "nbconvert_exporter": "python",
   "pygments_lexer": "ipython3",
   "version": "3.5.5"
  }
 },
 "nbformat": 4,
 "nbformat_minor": 2
}
